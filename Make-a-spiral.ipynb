{
 "cells": [
  {
   "cell_type": "code",
   "execution_count": null,
   "id": "ae3e8a84",
   "metadata": {},
   "outputs": [],
   "source": [
    "import numpy as np\n",
    "\n",
    "def spiralize(size):\n",
    "    \n",
    "    grid = np.array([[0]*size]*size)\n",
    "    current_row = 0\n",
    "    current_col = 0\n",
    "\n",
    "    while current_col < size:\n",
    "        grid[current_row,current_col]=1\n",
    "        current_col += 1\n",
    "\n",
    "    while current_row < size:\n",
    "        grid[current_row,current_col-1]=1\n",
    "        current_row += 1\n",
    "\n",
    "    while current_col > 0:\n",
    "        grid[current_row-1,current_col-1]=1\n",
    "        current_col -= 1    \n",
    "\n",
    "    gap = 2 \n",
    "\n",
    "    while gap < size:\n",
    "\n",
    "        while current_row > gap:\n",
    "            grid[current_row-1,current_col]=1\n",
    "            current_row -= 1     \n",
    "\n",
    "        while current_col < size - gap:\n",
    "            if  grid[current_row-1,current_col] !=1 and grid[current_row+1,current_col] !=1: # not tangential \n",
    "                grid[current_row,current_col]=1\n",
    "            current_col += 1\n",
    "\n",
    "        while current_row < size - gap:\n",
    "            grid[current_row,current_col-1]=1\n",
    "            current_row += 1\n",
    "\n",
    "        while current_col > gap:\n",
    "            if  grid[current_row-2,current_col-1] !=1 and grid[current_row,current_col-1] !=1: # not tangential \n",
    "                grid[current_row-1,current_col-1]=1\n",
    "            current_col -= 1    \n",
    "\n",
    "        gap += 2\n",
    "        \n",
    "    return grid.tolist()"
   ]
  }
 ],
 "metadata": {
  "kernelspec": {
   "display_name": "Python 3 (ipykernel)",
   "language": "python",
   "name": "python3"
  },
  "language_info": {
   "codemirror_mode": {
    "name": "ipython",
    "version": 3
   },
   "file_extension": ".py",
   "mimetype": "text/x-python",
   "name": "python",
   "nbconvert_exporter": "python",
   "pygments_lexer": "ipython3",
   "version": "3.9.7"
  }
 },
 "nbformat": 4,
 "nbformat_minor": 5
}
